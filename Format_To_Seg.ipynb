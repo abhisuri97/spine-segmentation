{
 "cells": [
  {
   "cell_type": "code",
   "execution_count": 33,
   "metadata": {},
   "outputs": [],
   "source": [
    "import os \n",
    "import json\n",
    "import itertools\n",
    "import numpy as np"
   ]
  },
  {
   "cell_type": "code",
   "execution_count": 32,
   "metadata": {},
   "outputs": [
    {
     "name": "stdout",
     "output_type": "stream",
     "text": [
      "{'description': '', 'tags': [], 'size': {'height': 512, 'width': 512}, 'objects': [{'description': '', 'bitmap': None, 'tags': [], 'classTitle': 'vertebral_bone', 'points': {'exterior': [[241, 13], [246, 31], [237, 55], [277, 55], [298, 58], [304, 17], [280, 15]], 'interior': []}}, {'description': '', 'bitmap': None, 'tags': [], 'classTitle': 'vertebral_bone', 'points': {'exterior': [[300, 66], [283, 74], [267, 64], [246, 67], [235, 62], [232, 80], [220, 102], [248, 110], [272, 113], [286, 118], [293, 118], [295, 97]], 'interior': []}}, {'description': '', 'bitmap': None, 'tags': [], 'classTitle': 'vertebral_bone', 'points': {'exterior': [[290, 128], [282, 146], [278, 168], [278, 179], [251, 170], [227, 167], [209, 159], [207, 153], [217, 142], [219, 125], [219, 120], [231, 122], [261, 123]], 'interior': []}}, {'description': '', 'bitmap': None, 'tags': [], 'classTitle': 'vertebral_bone', 'points': {'exterior': [[193, 173], [194, 191], [182, 214], [199, 223], [225, 227], [247, 232], [257, 237], [257, 212], [274, 189], [230, 181]], 'interior': []}}, {'description': '', 'bitmap': None, 'tags': [], 'classTitle': 'vertebral_bone', 'points': {'exterior': [[179, 236], [179, 261], [171, 285], [211, 285], [241, 295], [242, 263], [247, 249], [212, 237]], 'interior': []}}, {'description': '', 'bitmap': None, 'tags': [], 'classTitle': 'vertebral_bone', 'points': {'exterior': [[235, 309], [226, 334], [231, 359], [200, 354], [169, 361], [167, 339], [167, 312], [169, 304], [201, 311]], 'interior': []}}]}\n"
     ]
    }
   ],
   "source": [
    "cnts = 0\n",
    "for idx,j in enumerate(os.listdir('mris_seg/images/ann')):\n",
    "    with open('mris_seg/images/ann/' + j) as json_file:\n",
    "        content = json.load(json_file)\n",
    "        if (cnts < 1):\n",
    "            if (len(content['objects']) > 0):\n",
    "                cnts += 1\n",
    "                print(content)"
   ]
  },
  {
   "cell_type": "code",
   "execution_count": 38,
   "metadata": {},
   "outputs": [],
   "source": [
    "def get_dicts():\n",
    "    full_list = []\n",
    "    for idx, j in enumerate(os.listdir('mris_seg/images/ann')):\n",
    "        with open('mris_seg/images/ann/' + j) as json_file:\n",
    "            content = json.load(json_file)\n",
    "            if (len(content['objects']) > 0):\n",
    "                # we have something...\n",
    "                record = {}\n",
    "                record[\"file_name\"] = 'mris_seg/images/ann/' + j \n",
    "                record['height'] = content['size']['height']\n",
    "                record['width'] = content['size']['width']\n",
    "                objs = [] \n",
    "                for obj in content['objects']:\n",
    "                    px = [p[0] for p in obj['points']['exterior']]\n",
    "                    py = [p[1] for p in obj['points']['exterior']]\n",
    "                    poly = [(x, y) for x, y in zip(px, py)]\n",
    "                    poly = list(itertools.chain.from_iterable(poly))\n",
    "                    o = {\n",
    "                        \"bbox\": [np.min(px), np.min(py), np.max(px), np.max(py)],\n",
    "                        \"category_id\": 0,\n",
    "                        \"iscrowd\": 0,\n",
    "                        \"segmentation\": [poly]\n",
    "                    }\n",
    "                    objs.append(o)\n",
    "                record[\"annotations\"] = objs\n",
    "                full_list.append(record)\n",
    "    return full_list # list[dict]"
   ]
  },
  {
   "cell_type": "code",
   "execution_count": 40,
   "metadata": {},
   "outputs": [
    {
     "data": {
      "text/plain": [
       "40"
      ]
     },
     "execution_count": 40,
     "metadata": {},
     "output_type": "execute_result"
    }
   ],
   "source": [
    "len(get_dicts())"
   ]
  },
  {
   "cell_type": "code",
   "execution_count": null,
   "metadata": {},
   "outputs": [],
   "source": []
  }
 ],
 "metadata": {
  "kernelspec": {
   "display_name": "Python 3",
   "language": "python",
   "name": "python3"
  },
  "language_info": {
   "codemirror_mode": {
    "name": "ipython",
    "version": 3
   },
   "file_extension": ".py",
   "mimetype": "text/x-python",
   "name": "python",
   "nbconvert_exporter": "python",
   "pygments_lexer": "ipython3",
   "version": "3.7.3"
  }
 },
 "nbformat": 4,
 "nbformat_minor": 2
}
