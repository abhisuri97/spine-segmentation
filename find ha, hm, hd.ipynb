{
 "cells": [
  {
   "cell_type": "code",
   "execution_count": 5,
   "metadata": {},
   "outputs": [],
   "source": [
    "import cv2\n",
    "import numpy as np\n"
   ]
  },
  {
   "cell_type": "code",
   "execution_count": 6,
   "metadata": {},
   "outputs": [],
   "source": [
    "import imutils\n",
    "import matplotlib.pyplot as plt\n",
    "from scipy.interpolate import splprep, splev\n"
   ]
  },
  {
   "cell_type": "code",
   "execution_count": 7,
   "metadata": {},
   "outputs": [],
   "source": [
    "def get_perp_bisector(line):\n",
    "    (x1, y1), (x2, y2) = line\n",
    "    cx = (x1+x2)/2;\n",
    "    cy = (y1+y2)/2;\n",
    "\n",
    "    x1-=cx; y1-=cy;\n",
    "    x2-=cx; y2-=cy;\n",
    "\n",
    "    xtemp = x1; ytemp = y1;\n",
    "    x1=-ytemp; y1=xtemp; \n",
    "\n",
    "    xtemp = x2; ytemp = y2;\n",
    "    x2=-ytemp; y2=xtemp; \n",
    "\n",
    "    x1+=cx; y1+=cy;\n",
    "    x2+=cx; y2+=cy;\n",
    "    \n",
    "    return ((int(x1), int(y1)), (int(x2), int(y2)))"
   ]
  },
  {
   "cell_type": "code",
   "execution_count": 8,
   "metadata": {},
   "outputs": [],
   "source": [
    "def get_md_pt(line, contours, image):\n",
    "    perp1 = get_perp_bisector(line)\n",
    "    img_blk_ln = np.zeros(image.shape).astype(image.dtype)\n",
    "    cv2.line(img_blk_ln, perp1[0], perp1[1], (255,255,255), thickness=1, lineType=8, shift=0)\n",
    "    img_blk_cnt = np.zeros(image.shape).astype(image.dtype)\n",
    "    cv2.drawContours(img_blk_cnt, contours, 0, (255,255, 255), 1)\n",
    "    img_blk = np.zeros(image.shape).astype(image.dtype)\n",
    "    cv2.bitwise_and(img_blk_cnt, img_blk_ln, img_blk)\n",
    "#     cv2.line(image, line[0], line[1], (255, 0, 0), thickness=1, lineType=8, shift=0)\n",
    "    pixelpoints = np.transpose(np.nonzero(img_blk))\n",
    "#     plt.imshow(img_blk)\n",
    "    return (pixelpoints[0][0], pixelpoints[0][1])\n",
    "    "
   ]
  },
  {
   "cell_type": "code",
   "execution_count": 9,
   "metadata": {},
   "outputs": [],
   "source": [
    "def smooth_contours(contours):\n",
    "    smoothened = []\n",
    "    for contour in contours:\n",
    "        x,y = contour.T\n",
    "        # Convert from numpy arrays to normal arrays\n",
    "        x = x.tolist()[0]\n",
    "        y = y.tolist()[0]\n",
    "        # https://docs.scipy.org/doc/scipy-0.14.0/reference/generated/scipy.interpolate.splprep.html\n",
    "        tck, u = splprep([x,y], u=None, s=1.0, per=1)\n",
    "        # https://docs.scipy.org/doc/numpy-1.10.1/reference/generated/numpy.linspace.html\n",
    "        u_new = np.linspace(u.min(), u.max(), 25)\n",
    "        # https://docs.scipy.org/doc/scipy-0.14.0/reference/generated/scipy.interpolate.splev.html\n",
    "        x_new, y_new = splev(u_new, tck, der=0)\n",
    "        # Convert it back to numpy format for opencv to be able to display it\n",
    "        res_array = [[[int(i[0]), int(i[1])]] for i in zip(x_new,y_new)]\n",
    "        smoothened.append(np.asarray(res_array, dtype=np.int32))\n",
    "    return smoothened"
   ]
  },
  {
   "cell_type": "code",
   "execution_count": 10,
   "metadata": {},
   "outputs": [],
   "source": [
    "def warp_image(image, contours):\n",
    "    rect = cv2.minAreaRect(contours[0])\n",
    "\n",
    "    box = cv2.boxPoints(rect)\n",
    "    box = np.int0(box)\n",
    "    \n",
    "    width = int(rect[1][0])\n",
    "    height = int(rect[1][1])\n",
    "    box = np.int0(box)\n",
    "\n",
    "    W = rect[1][0]\n",
    "    H = rect[1][1]\n",
    "\n",
    "    Xs = [i[0] for i in box]\n",
    "    Ys = [i[1] for i in box]\n",
    "    x1 = min(Xs)\n",
    "    x2 = max(Xs)\n",
    "    y1 = min(Ys)\n",
    "    y2 = max(Ys)\n",
    "\n",
    "    angle = rect[2]\n",
    "    if angle < -45:\n",
    "        angle += 90\n",
    "\n",
    "    center = ((x1+x2)/2,(y1+y2)/2)\n",
    "    # Size of the upright rectangle bounding the rotated rectangle\n",
    "    size = (x2-x1, y2-y1)\n",
    "    M = cv2.getRotationMatrix2D((size[0]/2, size[1]/2), angle, 1.0)\n",
    "    # Cropped upright rectangle\n",
    "    cropped = cv2.getRectSubPix(image, size, center)\n",
    "    cropped = cv2.warpAffine(cropped, M, size)\n",
    "    croppedW = H if H > W else W\n",
    "    croppedH = H if H < W else W\n",
    "    # Final cropped & rotated rectangle\n",
    "    return cv2.getRectSubPix(cropped, (int(croppedW),int(croppedH)), (size[0]/2, size[1]/2))"
   ]
  },
  {
   "cell_type": "code",
   "execution_count": 20,
   "metadata": {},
   "outputs": [],
   "source": [
    "def find_pts(path):\n",
    "    image_o = cv2.imread(path)\n",
    "    gray = cv2.cvtColor(image_o, cv2.COLOR_BGR2GRAY)\n",
    "    ret, thresh = cv2.threshold(gray, 60, 255, cv2.THRESH_BINARY)\n",
    "    # plt.imshow(thresh, cmap=\"gray\")\n",
    "    old_contours = cv2.findContours(thresh.copy(), cv2.RETR_EXTERNAL, cv2.CHAIN_APPROX_SIMPLE)\n",
    "    old_contours = imutils.grab_contours(old_contours)\n",
    "    # smooth contours \n",
    "    contours = smooth_contours(old_contours)\n",
    "\n",
    "    \n",
    "    image = np.zeros(image_o.shape).astype(image_o.dtype)\n",
    "    cv2.fillPoly(image, contours, [255,255,255])\n",
    "    gray = cv2.cvtColor(image, cv2.COLOR_BGR2GRAY)\n",
    "\n",
    "\n",
    "    # Extract corners\n",
    "    corners = cv2.goodFeaturesToTrack(gray, 4, 0.01, 20)\n",
    "    corners = np.int0(corners)\n",
    "    true_corners = []\n",
    "    # get corners closest to contour\n",
    "    for pt in corners:\n",
    "        true_corners.append(min([(x, np.linalg.norm(x-pt)) for x in contours[0]], key = lambda t: t[1])[0].tolist()[0])\n",
    "    # draw circle around points\n",
    "    for pt in true_corners:\n",
    "        (x, y) = pt\n",
    "        cv2.circle(image, (x,y), 1, (255,0,0), thickness=1, lineType=8, shift=0)\n",
    "    # draw lines for the corner pts\n",
    "    sorted_pts = sorted(true_corners, key=lambda x: x[1])\n",
    "    line1 = (tuple(sorted_pts[0]), tuple(sorted_pts[1]))\n",
    "    line2 = (tuple(sorted_pts[2]), tuple(sorted_pts[3]))\n",
    "#     cv2.line(image, line1[0], line2[0], (255,0,0), thickness=1, lineType=8, shift=0)\n",
    "#     cv2.line(image, line1[1], line2[1], (255,0,0), thickness=1, lineType=8, shift=0)\n",
    "    hms_y, hms_x = get_md_pt(line1, contours, image)\n",
    "    hmi_y, hmi_x = get_md_pt(line2, contours, image)\n",
    "    cv2.line(image, (hms_x, hms_y), (hmi_x, hmi_y), (255,0,0), thickness=1, lineType=8, shift=0)\n",
    "    \n",
    "#     cv2.circle(image, (hms_x, hms_y), 1, (0,255,0), thickness=1, lineType=8, shift=0)\n",
    "#     cv2.circle(image, (hmi_x, hmi_y ), 1, (0,255,0), thickness=1, lineType=8, shift=0)\n",
    "    \n",
    "    # warp image\n",
    "    \n",
    "    \n",
    "    \n",
    "    t = cv2.imread('images/{}'.format(path.split('/')[1].split('_L_')[0] + '_L.png'))\n",
    "    cv2.bitwise_and(t, image_o, image_o)\n",
    "    croppedRotated = warp_image(image_o, old_contours)\n",
    "    plt.imshow(croppedRotated)\n",
    "    cv2.imwrite('keypts/{}'.format(path.split('/')[1]), croppedRotated)\n"
   ]
  },
  {
   "cell_type": "code",
   "execution_count": 22,
   "metadata": {},
   "outputs": [
    {
     "name": "stdout",
     "output_type": "stream",
     "text": [
      "(512, 512, 3) (512, 512, 3)\n",
      "list index out of range\n",
      "(512, 512, 3) (512, 512, 3)\n",
      "(512, 512, 3) (512, 512, 3)\n",
      "(512, 512, 3) (512, 512, 3)\n",
      "(512, 512, 3) (512, 512, 3)\n",
      "(512, 512, 3) (512, 512, 3)\n"
     ]
    },
    {
     "name": "stderr",
     "output_type": "stream",
     "text": [
      "/anaconda3/lib/python3.7/site-packages/scipy/interpolate/_fitpack_impl.py:226: RuntimeWarning: Setting x[0][54]=x[0][0]\n",
      "  (i, m, i)))\n",
      "/anaconda3/lib/python3.7/site-packages/scipy/interpolate/_fitpack_impl.py:226: RuntimeWarning: Setting x[0][83]=x[0][0]\n",
      "  (i, m, i)))\n",
      "/anaconda3/lib/python3.7/site-packages/scipy/interpolate/_fitpack_impl.py:226: RuntimeWarning: Setting x[0][88]=x[0][0]\n",
      "  (i, m, i)))\n",
      "/anaconda3/lib/python3.7/site-packages/scipy/interpolate/_fitpack_impl.py:226: RuntimeWarning: Setting x[0][41]=x[0][0]\n",
      "  (i, m, i)))\n",
      "/anaconda3/lib/python3.7/site-packages/scipy/interpolate/_fitpack_impl.py:226: RuntimeWarning: Setting x[0][104]=x[0][0]\n",
      "  (i, m, i)))\n",
      "/anaconda3/lib/python3.7/site-packages/scipy/interpolate/_fitpack_impl.py:226: RuntimeWarning: Setting x[0][65]=x[0][0]\n",
      "  (i, m, i)))\n",
      "/anaconda3/lib/python3.7/site-packages/scipy/interpolate/_fitpack_impl.py:226: RuntimeWarning: Setting x[0][85]=x[0][0]\n",
      "  (i, m, i)))\n"
     ]
    },
    {
     "name": "stdout",
     "output_type": "stream",
     "text": [
      "(512, 512, 3) (512, 512, 3)\n",
      "(320, 320, 3) (320, 320, 3)\n",
      "(512, 512, 3) (512, 512, 3)\n",
      "(512, 512, 3) (512, 512, 3)\n",
      "(512, 512, 3) (512, 512, 3)\n",
      "(512, 512, 3) (512, 512, 3)\n",
      "(512, 512, 3) (512, 512, 3)\n"
     ]
    },
    {
     "name": "stderr",
     "output_type": "stream",
     "text": [
      "/anaconda3/lib/python3.7/site-packages/scipy/interpolate/_fitpack_impl.py:226: RuntimeWarning: Setting x[0][45]=x[0][0]\n",
      "  (i, m, i)))\n",
      "/anaconda3/lib/python3.7/site-packages/scipy/interpolate/_fitpack_impl.py:226: RuntimeWarning: Setting x[0][33]=x[0][0]\n",
      "  (i, m, i)))\n",
      "/anaconda3/lib/python3.7/site-packages/scipy/interpolate/_fitpack_impl.py:226: RuntimeWarning: Setting x[0][25]=x[0][0]\n",
      "  (i, m, i)))\n",
      "/anaconda3/lib/python3.7/site-packages/scipy/interpolate/_fitpack_impl.py:226: RuntimeWarning: Setting x[0][108]=x[0][0]\n",
      "  (i, m, i)))\n",
      "/anaconda3/lib/python3.7/site-packages/scipy/interpolate/_fitpack_impl.py:226: RuntimeWarning: Setting x[0][56]=x[0][0]\n",
      "  (i, m, i)))\n"
     ]
    },
    {
     "name": "stdout",
     "output_type": "stream",
     "text": [
      "list index out of range\n",
      "(256, 256, 3) (256, 256, 3)\n",
      "(512, 512, 3) (512, 512, 3)\n",
      "index 0 is out of bounds for axis 0 with size 0\n",
      "(512, 512, 3) (512, 512, 3)\n",
      "(512, 512, 3) (512, 512, 3)\n",
      "list index out of range\n",
      "(512, 512, 3) (512, 512, 3)\n"
     ]
    },
    {
     "name": "stderr",
     "output_type": "stream",
     "text": [
      "/anaconda3/lib/python3.7/site-packages/scipy/interpolate/_fitpack_impl.py:226: RuntimeWarning: Setting x[0][49]=x[0][0]\n",
      "  (i, m, i)))\n",
      "/anaconda3/lib/python3.7/site-packages/scipy/interpolate/_fitpack_impl.py:226: RuntimeWarning: Setting x[0][72]=x[0][0]\n",
      "  (i, m, i)))\n",
      "/anaconda3/lib/python3.7/site-packages/scipy/interpolate/_fitpack_impl.py:226: RuntimeWarning: Setting x[0][68]=x[0][0]\n",
      "  (i, m, i)))\n",
      "/anaconda3/lib/python3.7/site-packages/scipy/interpolate/_fitpack_impl.py:226: RuntimeWarning: Setting x[0][53]=x[0][0]\n",
      "  (i, m, i)))\n",
      "/anaconda3/lib/python3.7/site-packages/scipy/interpolate/_fitpack_impl.py:226: RuntimeWarning: Setting x[0][34]=x[0][0]\n",
      "  (i, m, i)))\n",
      "/anaconda3/lib/python3.7/site-packages/scipy/interpolate/_fitpack_impl.py:226: RuntimeWarning: Setting x[0][63]=x[0][0]\n",
      "  (i, m, i)))\n",
      "/anaconda3/lib/python3.7/site-packages/scipy/interpolate/_fitpack_impl.py:226: RuntimeWarning: Setting x[0][86]=x[0][0]\n",
      "  (i, m, i)))\n"
     ]
    },
    {
     "name": "stdout",
     "output_type": "stream",
     "text": [
      "(512, 512, 3) (512, 512, 3)\n",
      "(512, 512, 3) (512, 512, 3)\n",
      "list index out of range\n",
      "(512, 512, 3) (512, 512, 3)\n",
      "(512, 512, 3) (512, 512, 3)\n",
      "index 0 is out of bounds for axis 0 with size 0\n",
      "(512, 512, 3) (512, 512, 3)\n",
      "(512, 512, 3) (512, 512, 3)\n"
     ]
    },
    {
     "name": "stderr",
     "output_type": "stream",
     "text": [
      "/anaconda3/lib/python3.7/site-packages/scipy/interpolate/_fitpack_impl.py:226: RuntimeWarning: Setting x[0][71]=x[0][0]\n",
      "  (i, m, i)))\n",
      "/anaconda3/lib/python3.7/site-packages/scipy/interpolate/_fitpack_impl.py:226: RuntimeWarning: Setting x[0][38]=x[0][0]\n",
      "  (i, m, i)))\n",
      "/anaconda3/lib/python3.7/site-packages/scipy/interpolate/_fitpack_impl.py:226: RuntimeWarning: Setting x[0][55]=x[0][0]\n",
      "  (i, m, i)))\n",
      "/anaconda3/lib/python3.7/site-packages/scipy/interpolate/_fitpack_impl.py:226: RuntimeWarning: Setting x[0][29]=x[0][0]\n",
      "  (i, m, i)))\n",
      "/anaconda3/lib/python3.7/site-packages/scipy/interpolate/_fitpack_impl.py:226: RuntimeWarning: Setting x[0][69]=x[0][0]\n",
      "  (i, m, i)))\n"
     ]
    },
    {
     "name": "stdout",
     "output_type": "stream",
     "text": [
      "(512, 512, 3) (512, 512, 3)\n",
      "(512, 512, 3) (512, 512, 3)\n",
      "index 0 is out of bounds for axis 0 with size 0\n",
      "index 0 is out of bounds for axis 0 with size 0\n",
      "list index out of range\n",
      "(512, 512, 3) (512, 512, 3)\n",
      "(512, 512, 3) (512, 512, 3)\n",
      "(512, 512, 3) (512, 512, 3)\n",
      "(512, 512, 3) (512, 512, 3)\n"
     ]
    },
    {
     "name": "stderr",
     "output_type": "stream",
     "text": [
      "/anaconda3/lib/python3.7/site-packages/scipy/interpolate/_fitpack_impl.py:226: RuntimeWarning: Setting x[0][79]=x[0][0]\n",
      "  (i, m, i)))\n",
      "/anaconda3/lib/python3.7/site-packages/scipy/interpolate/_fitpack_impl.py:226: RuntimeWarning: Setting x[0][70]=x[0][0]\n",
      "  (i, m, i)))\n",
      "/anaconda3/lib/python3.7/site-packages/scipy/interpolate/_fitpack_impl.py:226: RuntimeWarning: Setting x[0][51]=x[0][0]\n",
      "  (i, m, i)))\n",
      "/anaconda3/lib/python3.7/site-packages/scipy/interpolate/_fitpack_impl.py:226: RuntimeWarning: Setting x[0][93]=x[0][0]\n",
      "  (i, m, i)))\n",
      "/anaconda3/lib/python3.7/site-packages/scipy/interpolate/_fitpack_impl.py:226: RuntimeWarning: Setting x[0][50]=x[0][0]\n",
      "  (i, m, i)))\n",
      "/anaconda3/lib/python3.7/site-packages/scipy/interpolate/_fitpack_impl.py:226: RuntimeWarning: Setting x[0][90]=x[0][0]\n",
      "  (i, m, i)))\n"
     ]
    },
    {
     "name": "stdout",
     "output_type": "stream",
     "text": [
      "(512, 512, 3) (512, 512, 3)\n",
      "index 0 is out of bounds for axis 0 with size 0\n",
      "(512, 512, 3) (512, 512, 3)\n",
      "index 0 is out of bounds for axis 0 with size 0\n",
      "(512, 512, 3) (512, 512, 3)\n",
      "(512, 512, 3) (512, 512, 3)\n",
      "(512, 512, 3) (512, 512, 3)\n",
      "(512, 512, 3) (512, 512, 3)\n"
     ]
    },
    {
     "name": "stderr",
     "output_type": "stream",
     "text": [
      "/anaconda3/lib/python3.7/site-packages/scipy/interpolate/_fitpack_impl.py:226: RuntimeWarning: Setting x[0][47]=x[0][0]\n",
      "  (i, m, i)))\n",
      "/anaconda3/lib/python3.7/site-packages/scipy/interpolate/_fitpack_impl.py:226: RuntimeWarning: Setting x[0][89]=x[0][0]\n",
      "  (i, m, i)))\n",
      "/anaconda3/lib/python3.7/site-packages/scipy/interpolate/_fitpack_impl.py:226: RuntimeWarning: Setting x[0][97]=x[0][0]\n",
      "  (i, m, i)))\n",
      "/anaconda3/lib/python3.7/site-packages/scipy/interpolate/_fitpack_impl.py:226: RuntimeWarning: Setting x[1][97]=x[1][0]\n",
      "  (i, m, i)))\n",
      "/anaconda3/lib/python3.7/site-packages/scipy/interpolate/_fitpack_impl.py:226: RuntimeWarning: Setting x[0][39]=x[0][0]\n",
      "  (i, m, i)))\n"
     ]
    },
    {
     "name": "stdout",
     "output_type": "stream",
     "text": [
      "(512, 512, 3) (512, 512, 3)\n",
      "(512, 512, 3) (512, 512, 3)\n",
      "(512, 512, 3) (512, 512, 3)\n",
      "index 0 is out of bounds for axis 0 with size 0\n",
      "(512, 512, 3) (512, 512, 3)\n",
      "(512, 512, 3) (512, 512, 3)\n"
     ]
    },
    {
     "name": "stderr",
     "output_type": "stream",
     "text": [
      "/anaconda3/lib/python3.7/site-packages/scipy/interpolate/_fitpack_impl.py:226: RuntimeWarning: Setting x[0][62]=x[0][0]\n",
      "  (i, m, i)))\n",
      "/anaconda3/lib/python3.7/site-packages/scipy/interpolate/_fitpack_impl.py:226: RuntimeWarning: Setting x[0][91]=x[0][0]\n",
      "  (i, m, i)))\n",
      "/anaconda3/lib/python3.7/site-packages/scipy/interpolate/_fitpack_impl.py:226: RuntimeWarning: Setting x[0][103]=x[0][0]\n",
      "  (i, m, i)))\n"
     ]
    },
    {
     "name": "stdout",
     "output_type": "stream",
     "text": [
      "(512, 512, 3) (512, 512, 3)\n",
      "(256, 256, 3) (256, 256, 3)\n",
      "(512, 512, 3) (512, 512, 3)\n",
      "index 0 is out of bounds for axis 0 with size 0\n",
      "(512, 512, 3) (512, 512, 3)\n",
      "(512, 512, 3) (512, 512, 3)\n",
      "(512, 512, 3) (512, 512, 3)\n"
     ]
    },
    {
     "name": "stderr",
     "output_type": "stream",
     "text": [
      "/anaconda3/lib/python3.7/site-packages/scipy/interpolate/_fitpack_impl.py:226: RuntimeWarning: Setting x[0][42]=x[0][0]\n",
      "  (i, m, i)))\n",
      "/anaconda3/lib/python3.7/site-packages/scipy/interpolate/_fitpack_impl.py:226: RuntimeWarning: Setting x[0][73]=x[0][0]\n",
      "  (i, m, i)))\n",
      "/anaconda3/lib/python3.7/site-packages/scipy/interpolate/_fitpack_impl.py:226: RuntimeWarning: Setting x[0][82]=x[0][0]\n",
      "  (i, m, i)))\n",
      "/anaconda3/lib/python3.7/site-packages/scipy/interpolate/_fitpack_impl.py:226: RuntimeWarning: Setting x[0][106]=x[0][0]\n",
      "  (i, m, i)))\n",
      "/anaconda3/lib/python3.7/site-packages/scipy/interpolate/_fitpack_impl.py:226: RuntimeWarning: Setting x[0][5]=x[0][0]\n",
      "  (i, m, i)))\n",
      "/anaconda3/lib/python3.7/site-packages/scipy/interpolate/_fitpack_impl.py:226: RuntimeWarning: Setting x[1][5]=x[1][0]\n",
      "  (i, m, i)))\n",
      "/anaconda3/lib/python3.7/site-packages/scipy/interpolate/_fitpack_impl.py:226: RuntimeWarning: Setting x[0][109]=x[0][0]\n",
      "  (i, m, i)))\n"
     ]
    },
    {
     "name": "stdout",
     "output_type": "stream",
     "text": [
      "(512, 512, 3) (512, 512, 3)\n",
      "(512, 512, 3) (512, 512, 3)\n",
      "(512, 512, 3) (512, 512, 3)\n",
      "(512, 512, 3) (512, 512, 3)\n",
      "(512, 512, 3) (512, 512, 3)\n",
      "(512, 512, 3) (512, 512, 3)\n",
      "list index out of range\n"
     ]
    },
    {
     "name": "stderr",
     "output_type": "stream",
     "text": [
      "/anaconda3/lib/python3.7/site-packages/scipy/interpolate/_fitpack_impl.py:226: RuntimeWarning: Setting x[0][40]=x[0][0]\n",
      "  (i, m, i)))\n",
      "/anaconda3/lib/python3.7/site-packages/scipy/interpolate/_fitpack_impl.py:226: RuntimeWarning: Setting x[0][23]=x[0][0]\n",
      "  (i, m, i)))\n",
      "/anaconda3/lib/python3.7/site-packages/scipy/interpolate/_fitpack_impl.py:226: RuntimeWarning: Setting x[0][67]=x[0][0]\n",
      "  (i, m, i)))\n",
      "/anaconda3/lib/python3.7/site-packages/scipy/interpolate/_fitpack_impl.py:226: RuntimeWarning: Setting x[0][37]=x[0][0]\n",
      "  (i, m, i)))\n"
     ]
    },
    {
     "name": "stdout",
     "output_type": "stream",
     "text": [
      "(512, 512, 3) (512, 512, 3)\n",
      "list index out of range\n",
      "(512, 512, 3) (512, 512, 3)\n",
      "(512, 512, 3) (512, 512, 3)\n",
      "(512, 512, 3) (512, 512, 3)\n",
      "list index out of range\n",
      "(512, 512, 3) (512, 512, 3)\n",
      "index 0 is out of bounds for axis 0 with size 0\n",
      "index 0 is out of bounds for axis 0 with size 0\n",
      "list index out of range\n",
      "(512, 512, 3) (512, 512, 3)\n",
      "(512, 512, 3) (512, 512, 3)\n",
      "(512, 512, 3) (512, 512, 3)\n",
      "index 0 is out of bounds for axis 0 with size 0\n",
      "(512, 512, 3) (512, 512, 3)\n"
     ]
    },
    {
     "name": "stderr",
     "output_type": "stream",
     "text": [
      "/anaconda3/lib/python3.7/site-packages/scipy/interpolate/_fitpack_impl.py:226: RuntimeWarning: Setting x[1][68]=x[1][0]\n",
      "  (i, m, i)))\n",
      "/anaconda3/lib/python3.7/site-packages/scipy/interpolate/_fitpack_impl.py:226: RuntimeWarning: Setting x[0][115]=x[0][0]\n",
      "  (i, m, i)))\n",
      "/anaconda3/lib/python3.7/site-packages/scipy/interpolate/_fitpack_impl.py:226: RuntimeWarning: Setting x[0][57]=x[0][0]\n",
      "  (i, m, i)))\n"
     ]
    },
    {
     "name": "stdout",
     "output_type": "stream",
     "text": [
      "(512, 512, 3) (512, 512, 3)\n",
      "index 0 is out of bounds for axis 0 with size 0\n",
      "(512, 512, 3) (512, 512, 3)\n",
      "(512, 512, 3) (512, 512, 3)\n",
      "(512, 512, 3) (512, 512, 3)\n",
      "(512, 512, 3) (512, 512, 3)\n",
      "(512, 512, 3) (512, 512, 3)\n"
     ]
    },
    {
     "name": "stderr",
     "output_type": "stream",
     "text": [
      "/anaconda3/lib/python3.7/site-packages/scipy/interpolate/_fitpack_impl.py:226: RuntimeWarning: Setting x[0][121]=x[0][0]\n",
      "  (i, m, i)))\n",
      "/anaconda3/lib/python3.7/site-packages/scipy/interpolate/_fitpack_impl.py:226: RuntimeWarning: Setting x[0][87]=x[0][0]\n",
      "  (i, m, i)))\n",
      "/anaconda3/lib/python3.7/site-packages/scipy/interpolate/_fitpack_impl.py:226: RuntimeWarning: Setting x[0][99]=x[0][0]\n",
      "  (i, m, i)))\n"
     ]
    },
    {
     "name": "stdout",
     "output_type": "stream",
     "text": [
      "index 0 is out of bounds for axis 0 with size 0\n",
      "(512, 512, 3) (512, 512, 3)\n",
      "index 0 is out of bounds for axis 0 with size 0\n",
      "(512, 512, 3) (512, 512, 3)\n",
      "(320, 320, 3) (320, 320, 3)\n",
      "(512, 512, 3) (512, 512, 3)\n",
      "index 0 is out of bounds for axis 0 with size 0\n",
      "(512, 512, 3) (512, 512, 3)\n"
     ]
    },
    {
     "name": "stderr",
     "output_type": "stream",
     "text": [
      "/anaconda3/lib/python3.7/site-packages/scipy/interpolate/_fitpack_impl.py:226: RuntimeWarning: Setting x[0][102]=x[0][0]\n",
      "  (i, m, i)))\n",
      "/anaconda3/lib/python3.7/site-packages/scipy/interpolate/_fitpack_impl.py:226: RuntimeWarning: Setting x[0][76]=x[0][0]\n",
      "  (i, m, i)))\n"
     ]
    },
    {
     "name": "stdout",
     "output_type": "stream",
     "text": [
      "(512, 512, 3) (512, 512, 3)\n",
      "(512, 512, 3) (512, 512, 3)\n",
      "(512, 512, 3) (512, 512, 3)\n",
      "(512, 512, 3) (512, 512, 3)\n",
      "(512, 512, 3) (512, 512, 3)\n",
      "(512, 512, 3) (512, 512, 3)\n"
     ]
    },
    {
     "name": "stderr",
     "output_type": "stream",
     "text": [
      "/anaconda3/lib/python3.7/site-packages/scipy/interpolate/_fitpack_impl.py:226: RuntimeWarning: Setting x[0][84]=x[0][0]\n",
      "  (i, m, i)))\n",
      "/anaconda3/lib/python3.7/site-packages/scipy/interpolate/_fitpack_impl.py:226: RuntimeWarning: Setting x[0][105]=x[0][0]\n",
      "  (i, m, i)))\n",
      "/anaconda3/lib/python3.7/site-packages/scipy/interpolate/_fitpack_impl.py:226: RuntimeWarning: Setting x[0][92]=x[0][0]\n",
      "  (i, m, i)))\n",
      "/anaconda3/lib/python3.7/site-packages/scipy/interpolate/_fitpack_impl.py:226: RuntimeWarning: Setting x[0][59]=x[0][0]\n",
      "  (i, m, i)))\n"
     ]
    },
    {
     "name": "stdout",
     "output_type": "stream",
     "text": [
      "(512, 512, 3) (512, 512, 3)\n",
      "(512, 512, 3) (512, 512, 3)\n",
      "index 0 is out of bounds for axis 0 with size 0\n",
      "(512, 512, 3) (512, 512, 3)\n",
      "(320, 320, 3) (320, 320, 3)\n",
      "index 0 is out of bounds for axis 0 with size 0\n",
      "(512, 512, 3) (512, 512, 3)\n",
      "index 0 is out of bounds for axis 0 with size 0\n"
     ]
    },
    {
     "name": "stderr",
     "output_type": "stream",
     "text": [
      "/anaconda3/lib/python3.7/site-packages/scipy/interpolate/_fitpack_impl.py:226: RuntimeWarning: Setting x[0][136]=x[0][0]\n",
      "  (i, m, i)))\n",
      "/anaconda3/lib/python3.7/site-packages/scipy/interpolate/_fitpack_impl.py:226: RuntimeWarning: Setting x[0][125]=x[0][0]\n",
      "  (i, m, i)))\n",
      "/anaconda3/lib/python3.7/site-packages/scipy/interpolate/_fitpack_impl.py:226: RuntimeWarning: Setting x[0][32]=x[0][0]\n",
      "  (i, m, i)))\n",
      "/anaconda3/lib/python3.7/site-packages/scipy/interpolate/_fitpack_impl.py:226: RuntimeWarning: Setting x[0][96]=x[0][0]\n",
      "  (i, m, i)))\n",
      "/anaconda3/lib/python3.7/site-packages/scipy/interpolate/_fitpack_impl.py:226: RuntimeWarning: Setting x[0][78]=x[0][0]\n",
      "  (i, m, i)))\n",
      "/anaconda3/lib/python3.7/site-packages/scipy/interpolate/_fitpack_impl.py:226: RuntimeWarning: Setting x[0][30]=x[0][0]\n",
      "  (i, m, i)))\n",
      "/anaconda3/lib/python3.7/site-packages/scipy/interpolate/_fitpack_impl.py:226: RuntimeWarning: Setting x[0][60]=x[0][0]\n",
      "  (i, m, i)))\n"
     ]
    },
    {
     "name": "stdout",
     "output_type": "stream",
     "text": [
      "list index out of range\n",
      "(512, 512, 3) (512, 512, 3)\n",
      "(512, 512, 3) (512, 512, 3)\n",
      "(512, 512, 3) (512, 512, 3)\n",
      "(512, 512, 3) (512, 512, 3)\n",
      "(512, 512, 3) (512, 512, 3)\n",
      "(512, 512, 3) (512, 512, 3)\n",
      "(512, 512, 3) (512, 512, 3)\n",
      "(512, 512, 3) (512, 512, 3)\n",
      "(512, 512, 3) (512, 512, 3)\n",
      "(512, 512, 3) (512, 512, 3)\n",
      "(512, 512, 3) (512, 512, 3)\n",
      "(320, 320, 3) (320, 320, 3)\n"
     ]
    },
    {
     "name": "stderr",
     "output_type": "stream",
     "text": [
      "/anaconda3/lib/python3.7/site-packages/scipy/interpolate/_fitpack_impl.py:226: RuntimeWarning: Setting x[0][52]=x[0][0]\n",
      "  (i, m, i)))\n",
      "/anaconda3/lib/python3.7/site-packages/scipy/interpolate/_fitpack_impl.py:226: RuntimeWarning: Setting x[0][117]=x[0][0]\n",
      "  (i, m, i)))\n",
      "/anaconda3/lib/python3.7/site-packages/scipy/interpolate/_fitpack_impl.py:226: RuntimeWarning: Setting x[0][46]=x[0][0]\n",
      "  (i, m, i)))\n"
     ]
    },
    {
     "name": "stdout",
     "output_type": "stream",
     "text": [
      "(512, 512, 3) (512, 512, 3)\n",
      "(512, 512, 3) (512, 512, 3)\n",
      "(512, 512, 3) (512, 512, 3)\n",
      "(512, 512, 3) (512, 512, 3)\n",
      "(512, 512, 3) (512, 512, 3)\n",
      "(512, 512, 3) (512, 512, 3)\n",
      "(512, 512, 3) (512, 512, 3)\n"
     ]
    },
    {
     "name": "stderr",
     "output_type": "stream",
     "text": [
      "/anaconda3/lib/python3.7/site-packages/scipy/interpolate/_fitpack_impl.py:226: RuntimeWarning: Setting x[0][24]=x[0][0]\n",
      "  (i, m, i)))\n",
      "/anaconda3/lib/python3.7/site-packages/scipy/interpolate/_fitpack_impl.py:226: RuntimeWarning: Setting x[0][44]=x[0][0]\n",
      "  (i, m, i)))\n",
      "/anaconda3/lib/python3.7/site-packages/scipy/interpolate/_fitpack_impl.py:226: RuntimeWarning: Setting x[0][100]=x[0][0]\n",
      "  (i, m, i)))\n"
     ]
    },
    {
     "name": "stdout",
     "output_type": "stream",
     "text": [
      "(320, 320, 3) (320, 320, 3)\n",
      "list index out of range\n",
      "list index out of range\n",
      "index 0 is out of bounds for axis 0 with size 0\n"
     ]
    },
    {
     "ename": "KeyboardInterrupt",
     "evalue": "",
     "output_type": "error",
     "traceback": [
      "\u001b[0;31m---------------------------------------------------------------------------\u001b[0m",
      "\u001b[0;31mKeyboardInterrupt\u001b[0m                         Traceback (most recent call last)",
      "\u001b[0;32m<ipython-input-22-fb415592c603>\u001b[0m in \u001b[0;36m<module>\u001b[0;34m\u001b[0m\n\u001b[1;32m      2\u001b[0m \u001b[0;32mfor\u001b[0m \u001b[0midx\u001b[0m\u001b[0;34m,\u001b[0m \u001b[0mx\u001b[0m \u001b[0;32min\u001b[0m \u001b[0menumerate\u001b[0m\u001b[0;34m(\u001b[0m\u001b[0mos\u001b[0m\u001b[0;34m.\u001b[0m\u001b[0mlistdir\u001b[0m\u001b[0;34m(\u001b[0m\u001b[0;34m'generated_masks'\u001b[0m\u001b[0;34m)\u001b[0m\u001b[0;34m)\u001b[0m\u001b[0;34m:\u001b[0m\u001b[0;34m\u001b[0m\u001b[0;34m\u001b[0m\u001b[0m\n\u001b[1;32m      3\u001b[0m     \u001b[0;32mtry\u001b[0m\u001b[0;34m:\u001b[0m\u001b[0;34m\u001b[0m\u001b[0;34m\u001b[0m\u001b[0m\n\u001b[0;32m----> 4\u001b[0;31m         \u001b[0mfind_pts\u001b[0m\u001b[0;34m(\u001b[0m\u001b[0;34m'generated_masks/{}'\u001b[0m\u001b[0;34m.\u001b[0m\u001b[0mformat\u001b[0m\u001b[0;34m(\u001b[0m\u001b[0mx\u001b[0m\u001b[0;34m)\u001b[0m\u001b[0;34m)\u001b[0m\u001b[0;34m\u001b[0m\u001b[0;34m\u001b[0m\u001b[0m\n\u001b[0m\u001b[1;32m      5\u001b[0m     \u001b[0;32mexcept\u001b[0m \u001b[0mException\u001b[0m \u001b[0;32mas\u001b[0m \u001b[0me\u001b[0m\u001b[0;34m:\u001b[0m\u001b[0;34m\u001b[0m\u001b[0;34m\u001b[0m\u001b[0m\n\u001b[1;32m      6\u001b[0m         \u001b[0mprint\u001b[0m\u001b[0;34m(\u001b[0m\u001b[0me\u001b[0m\u001b[0;34m)\u001b[0m\u001b[0;34m\u001b[0m\u001b[0;34m\u001b[0m\u001b[0m\n",
      "\u001b[0;32m<ipython-input-20-6c54f5b48348>\u001b[0m in \u001b[0;36mfind_pts\u001b[0;34m(path)\u001b[0m\n\u001b[1;32m     43\u001b[0m \u001b[0;34m\u001b[0m\u001b[0m\n\u001b[1;32m     44\u001b[0m \u001b[0;34m\u001b[0m\u001b[0m\n\u001b[0;32m---> 45\u001b[0;31m     \u001b[0mt\u001b[0m \u001b[0;34m=\u001b[0m \u001b[0mcv2\u001b[0m\u001b[0;34m.\u001b[0m\u001b[0mimread\u001b[0m\u001b[0;34m(\u001b[0m\u001b[0;34m'images/{}'\u001b[0m\u001b[0;34m.\u001b[0m\u001b[0mformat\u001b[0m\u001b[0;34m(\u001b[0m\u001b[0mpath\u001b[0m\u001b[0;34m.\u001b[0m\u001b[0msplit\u001b[0m\u001b[0;34m(\u001b[0m\u001b[0;34m'/'\u001b[0m\u001b[0;34m)\u001b[0m\u001b[0;34m[\u001b[0m\u001b[0;36m1\u001b[0m\u001b[0;34m]\u001b[0m\u001b[0;34m.\u001b[0m\u001b[0msplit\u001b[0m\u001b[0;34m(\u001b[0m\u001b[0;34m'_L_'\u001b[0m\u001b[0;34m)\u001b[0m\u001b[0;34m[\u001b[0m\u001b[0;36m0\u001b[0m\u001b[0;34m]\u001b[0m \u001b[0;34m+\u001b[0m \u001b[0;34m'_L.png'\u001b[0m\u001b[0;34m)\u001b[0m\u001b[0;34m)\u001b[0m\u001b[0;34m\u001b[0m\u001b[0;34m\u001b[0m\u001b[0m\n\u001b[0m\u001b[1;32m     46\u001b[0m     \u001b[0mprint\u001b[0m\u001b[0;34m(\u001b[0m\u001b[0mimage_o\u001b[0m\u001b[0;34m.\u001b[0m\u001b[0mshape\u001b[0m\u001b[0;34m,\u001b[0m \u001b[0mt\u001b[0m\u001b[0;34m.\u001b[0m\u001b[0mshape\u001b[0m\u001b[0;34m)\u001b[0m\u001b[0;34m\u001b[0m\u001b[0;34m\u001b[0m\u001b[0m\n\u001b[1;32m     47\u001b[0m     \u001b[0mcv2\u001b[0m\u001b[0;34m.\u001b[0m\u001b[0mbitwise_and\u001b[0m\u001b[0;34m(\u001b[0m\u001b[0mt\u001b[0m\u001b[0;34m,\u001b[0m \u001b[0mimage_o\u001b[0m\u001b[0;34m,\u001b[0m \u001b[0mimage_o\u001b[0m\u001b[0;34m)\u001b[0m\u001b[0;34m\u001b[0m\u001b[0;34m\u001b[0m\u001b[0m\n",
      "\u001b[0;31mKeyboardInterrupt\u001b[0m: "
     ]
    },
    {
     "data": {
      "image/png": "[encoded data removed]",
      "text/plain": [
       "<Figure size 432x288 with 1 Axes>"
      ]
     },
     "metadata": {
      "needs_background": "light"
     },
     "output_type": "display_data"
    }
   ],
   "source": [
    "import os\n",
    "for idx, x in enumerate(os.listdir('generated_masks')):\n",
    "    try:\n",
    "        find_pts('generated_masks/{}'.format(x))\n",
    "    except Exception as e:\n",
    "        print(e)"
   ]
  },
  {
   "cell_type": "code",
   "execution_count": 23,
   "metadata": {},
   "outputs": [],
   "source": [
    "import matplotlib.pyplot as plt\n",
    "\n",
    "from skimage.feature import greycomatrix, greycoprops\n",
    "from skimage import data"
   ]
  },
  {
   "cell_type": "code",
   "execution_count": 63,
   "metadata": {},
   "outputs": [
    {
     "name": "stdout",
     "output_type": "stream",
     "text": [
      "OpenCV(3.4.2) /Users/travis/build/skvark/opencv-python/opencv/modules/imgproc/src/color.hpp:253: error: (-215:Assertion failed) VScn::contains(scn) && VDcn::contains(dcn) && VDepth::contains(depth) in function 'CvtHelper'\n",
      "\n"
     ]
    }
   ],
   "source": [
    "patches = []\n",
    "xs = []\n",
    "ys = []\n",
    "for idx, img in enumerate(os.listdir('keypts')):\n",
    "    if idx < 1000:\n",
    "        try:\n",
    "            i = cv2.imread('keypts/{}'.format(img))\n",
    "            i = cv2.cvtColor(i, cv2.COLOR_BGR2GRAY)\n",
    "            glcm = greycomatrix(i, [5], [0], 256, symmetric=True, normed=True)\n",
    "            xs.append(greycoprops(glcm, 'dissimilarity')[0, 0])\n",
    "            ys.append(greycoprops(glcm, 'contrast')[0, 0])\n",
    "        except Exception as e:\n",
    "            print(e)"
   ]
  },
  {
   "cell_type": "code",
   "execution_count": 64,
   "metadata": {},
   "outputs": [
    {
     "name": "stdout",
     "output_type": "stream",
     "text": [
      "104\n"
     ]
    },
    {
     "data": {
      "text/plain": [
       "[<matplotlib.lines.Line2D at 0x11eaa4208>]"
      ]
     },
     "execution_count": 64,
     "metadata": {},
     "output_type": "execute_result"
    },
    {
     "data": {
      "image/png": "[encoded data removed]",
      "text/plain": [
       "<Figure size 432x288 with 1 Axes>"
      ]
     },
     "metadata": {
      "needs_background": "light"
     },
     "output_type": "display_data"
    }
   ],
   "source": [
    "# create the figure\n",
    "print(len(xs))\n",
    "plt.plot(xs, ys, 'go')"
   ]
  },
  {
   "cell_type": "code",
   "execution_count": null,
   "metadata": {},
   "outputs": [],
   "source": []
  },
  {
   "cell_type": "code",
   "execution_count": null,
   "metadata": {},
   "outputs": [],
   "source": []
  }
 ],
 "metadata": {
  "kernelspec": {
   "display_name": "Python 3",
   "language": "python",
   "name": "python3"
  },
  "language_info": {
   "codemirror_mode": {
    "name": "ipython",
    "version": 3
   },
   "file_extension": ".py",
   "mimetype": "text/x-python",
   "name": "python",
   "nbconvert_exporter": "python",
   "pygments_lexer": "ipython3",
   "version": "3.7.3"
  }
 },
 "nbformat": 4,
 "nbformat_minor": 2
}
