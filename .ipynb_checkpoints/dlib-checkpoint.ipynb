{
 "cells": [
  {
   "cell_type": "code",
   "execution_count": 1,
   "metadata": {},
   "outputs": [
    {
     "name": "stdout",
     "output_type": "stream",
     "text": [
      "Collecting dlib\n",
      "\u001b[?25l  Downloading https://files.pythonhosted.org/packages/1e/62/aacb236d21fbd08148b1d517d58a9d80ea31bdcd386d26f21f8b23b1eb28/dlib-19.18.0.tar.gz (3.1MB)\n",
      "\u001b[K     |████████████████████████████████| 3.1MB 542kB/s eta 0:00:01\n",
      "\u001b[?25hBuilding wheels for collected packages: dlib\n",
      "  Building wheel for dlib (setup.py) ... \u001b[?25ldone\n",
      "\u001b[?25h  Stored in directory: /Users/abhi/Library/Caches/pip/wheels/ab/e9/6b/5206171e6a24d8cb6653936ccfd656b7d6f6c631c1b5f93970\n",
      "Successfully built dlib\n",
      "Installing collected packages: dlib\n",
      "Successfully installed dlib-19.18.0\n"
     ]
    }
   ],
   "source": [
    "!pip install dlib"
   ]
  },
  {
   "cell_type": "code",
   "execution_count": 42,
   "metadata": {},
   "outputs": [],
   "source": [
    "import os"
   ]
  },
  {
   "cell_type": "code",
   "execution_count": 43,
   "metadata": {},
   "outputs": [],
   "source": [
    "import sys"
   ]
  },
  {
   "cell_type": "code",
   "execution_count": 44,
   "metadata": {},
   "outputs": [],
   "source": [
    "import glob"
   ]
  },
  {
   "cell_type": "code",
   "execution_count": 45,
   "metadata": {},
   "outputs": [],
   "source": [
    "import dlib"
   ]
  },
  {
   "cell_type": "code",
   "execution_count": 46,
   "metadata": {},
   "outputs": [],
   "source": [
    "options = dlib.shape_predictor_training_options()"
   ]
  },
  {
   "cell_type": "code",
   "execution_count": 47,
   "metadata": {},
   "outputs": [],
   "source": [
    "options.oversampling_amount = 10"
   ]
  },
  {
   "cell_type": "code",
   "execution_count": 48,
   "metadata": {},
   "outputs": [],
   "source": [
    "options.nu = 0.05"
   ]
  },
  {
   "cell_type": "code",
   "execution_count": 49,
   "metadata": {},
   "outputs": [],
   "source": [
    "options.tree_depth = 2"
   ]
  },
  {
   "cell_type": "code",
   "execution_count": 50,
   "metadata": {},
   "outputs": [],
   "source": [
    "options.be_verbose = True"
   ]
  },
  {
   "cell_type": "code",
   "execution_count": 51,
   "metadata": {},
   "outputs": [],
   "source": [
    "training_xml_path = os.path.join('', \"training.xml\")\n"
   ]
  },
  {
   "cell_type": "code",
   "execution_count": 52,
   "metadata": {},
   "outputs": [],
   "source": [
    "dlib.train_shape_predictor(training_xml_path, \"predictor.dat\", options)"
   ]
  },
  {
   "cell_type": "code",
   "execution_count": 53,
   "metadata": {},
   "outputs": [
    {
     "name": "stdout",
     "output_type": "stream",
     "text": [
      "\n",
      "Training accuracy: 0.4943385176652097\n"
     ]
    }
   ],
   "source": [
    "print(\"\\nTraining accuracy: {}\".format(\n",
    "    dlib.test_shape_predictor(training_xml_path, \"predictor.dat\")))\n"
   ]
  },
  {
   "cell_type": "code",
   "execution_count": 3,
   "metadata": {},
   "outputs": [],
   "source": [
    "predictor = dlib.shape_predictor(\"predictor.dat\")\n"
   ]
  },
  {
   "cell_type": "code",
   "execution_count": null,
   "metadata": {},
   "outputs": [],
   "source": []
  },
  {
   "cell_type": "code",
   "execution_count": 13,
   "metadata": {},
   "outputs": [],
   "source": [
    "import numpy as np   \n",
    "import matplotlib.pyplot as plt"
   ]
  },
  {
   "cell_type": "code",
   "execution_count": 14,
   "metadata": {},
   "outputs": [],
   "source": [
    "import cv2"
   ]
  },
  {
   "cell_type": "code",
   "execution_count": 135,
   "metadata": {},
   "outputs": [
    {
     "data": {
      "text/plain": [
       "<matplotlib.image.AxesImage at 0x1264069e8>"
      ]
     },
     "execution_count": 135,
     "metadata": {},
     "output_type": "execute_result"
    },
    {
     "data": {
      "image/png": "[encoded data removed]",
      "text/plain": [
       "<Figure size 432x288 with 1 Axes>"
      ]
     },
     "metadata": {
      "needs_background": "light"
     },
     "output_type": "display_data"
    }
   ],
   "source": [
    "img = cv2.imread('generated_masks/MR_0021_L_1.png')\n",
    "gray = cv2.cvtColor(img, cv2.COLOR_BGR2GRAY)\n",
    "gray = np.float32(gray)\n",
    "gray = cv2.GaussianBlur(gray, (5,5), cv2.BORDER_DEFAULT)\n",
    "corners = cv2.goodFeaturesToTrack(gray, 4, 0.01, 10)\n",
    "\n",
    "corners = np.int0(corners)\n",
    "\n",
    "for c in corners:\n",
    "    x, y = c.ravel()\n",
    "    cv2.circle(img, (x, y), 5, 255, -1)\n",
    "plt.imshow(img)"
   ]
  },
  {
   "cell_type": "code",
   "execution_count": 114,
   "metadata": {},
   "outputs": [
    {
     "data": {
      "text/plain": [
       "<matplotlib.image.AxesImage at 0x12502d780>"
      ]
     },
     "execution_count": 114,
     "metadata": {},
     "output_type": "execute_result"
    },
    {
     "data": {
      "image/png": "[encoded data removed]",
      "text/plain": [
       "<Figure size 432x288 with 1 Axes>"
      ]
     },
     "metadata": {
      "needs_background": "light"
     },
     "output_type": "display_data"
    }
   ],
   "source": [
    "im = cv2.imread('test_mask/test2.png')\n",
    "imgray = cv2.cvtColor(img, cv2.COLOR_BGR2GRAY)\n",
    "ret, thresh = cv2.threshold(imgray, 127, 255, 0)\n",
    "im2, contours, hierarchy = cv2.findContours(thresh, cv2.RETR_TREE, cv2.CHAIN_APPROX_SIMPLE)\n",
    "cv2.drawContours(im, contours, -1, (0, 255, 0), 1)\n",
    "plt.imshow(im)"
   ]
  },
  {
   "cell_type": "code",
   "execution_count": 121,
   "metadata": {},
   "outputs": [
    {
     "name": "stdout",
     "output_type": "stream",
     "text": [
      "83\n",
      "[-45.0, -90.0, -90.0, -90.0, -90.0, -90.0, -90.0, -90.0, -90.0, 0.0, -45.0, 135.0, -45.0, -135.0, -135.0, -135.0, -135.0, -135.0, -135.0, -135.0, -135.0, -135.0, 45.0, 45.0, 135.0, 135.0, 135.0, 135.0, 135.0, 135.0, 135.0, 0.0, 45.0, 45.0, 45.0, 45.0, 45.0, 45.0, 45.0, 45.0, 45.0]\n"
     ]
    },
    {
     "data": {
      "text/plain": [
       "(array([ 9.,  0.,  0.,  8.,  0.,  0.,  3.,  0.,  0.,  0.,  2.,  0.,  0.,\n",
       "        11.,  0.,  0.,  0.,  0.,  0.,  8.]),\n",
       " array([-135. , -121.5, -108. ,  -94.5,  -81. ,  -67.5,  -54. ,  -40.5,\n",
       "         -27. ,  -13.5,    0. ,   13.5,   27. ,   40.5,   54. ,   67.5,\n",
       "          81. ,   94.5,  108. ,  121.5,  135. ]),\n",
       " <a list of 20 Patch objects>)"
      ]
     },
     "execution_count": 121,
     "metadata": {},
     "output_type": "execute_result"
    },
    {
     "data": {
      "image/png": "[encoded data removed]",
      "text/plain": [
       "<Figure size 432x288 with 1 Axes>"
      ]
     },
     "metadata": {
      "needs_background": "light"
     },
     "output_type": "display_data"
    }
   ],
   "source": [
    "angles = []\n",
    "prev = []\n",
    "print(len(contours[0]))\n",
    "for idx, c in enumerate(contours[0]):\n",
    "    x, y = c[0][0], c[0][1]\n",
    "    if idx > 0 and idx % 2 == 0:\n",
    "        angle = np.arctan2(prev[idx-1][1] - y, prev[idx-1][0] - x) * 180.0 / np.pi\n",
    "        angles.append(angle)\n",
    "    prev.append((x, y))\n",
    "print(angles)\n",
    "plt.hist(angles, bins=20)"
   ]
  },
  {
   "cell_type": "code",
   "execution_count": 117,
   "metadata": {},
   "outputs": [
    {
     "data": {
      "text/plain": [
       "<matplotlib.image.AxesImage at 0x1252dddd8>"
      ]
     },
     "execution_count": 117,
     "metadata": {},
     "output_type": "execute_result"
    },
    {
     "data": {
      "image/png": "[encoded data removed]",
      "text/plain": [
       "<Figure size 432x288 with 1 Axes>"
      ]
     },
     "metadata": {
      "needs_background": "light"
     },
     "output_type": "display_data"
    }
   ],
   "source": [
    "pred = predictor(img, dlib.rectangle(0, 0, 72, 57))\n",
    "pts = []\n",
    "for p in range(0, 6):\n",
    "    pt = pred.part(p)\n",
    "    x, y = pt.x, pt.y\n",
    "    cv2.circle(img, (x, y), 1, (0, 0, 255))\n",
    "plt.imshow(img)"
   ]
  },
  {
   "cell_type": "code",
   "execution_count": null,
   "metadata": {},
   "outputs": [],
   "source": []
  }
 ],
 "metadata": {
  "kernelspec": {
   "display_name": "Python 3",
   "language": "python",
   "name": "python3"
  },
  "language_info": {
   "codemirror_mode": {
    "name": "ipython",
    "version": 3
   },
   "file_extension": ".py",
   "mimetype": "text/x-python",
   "name": "python",
   "nbconvert_exporter": "python",
   "pygments_lexer": "ipython3",
   "version": "3.7.3"
  }
 },
 "nbformat": 4,
 "nbformat_minor": 2
}
