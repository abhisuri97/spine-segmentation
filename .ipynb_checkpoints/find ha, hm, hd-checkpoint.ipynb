{
 "cells": [
  {
   "cell_type": "code",
   "execution_count": 1,
   "metadata": {},
   "outputs": [],
   "source": [
    "import cv2\n",
    "import numpy as np\n"
   ]
  },
  {
   "cell_type": "code",
   "execution_count": 2,
   "metadata": {},
   "outputs": [],
   "source": [
    "import imutils\n",
    "import matplotlib.pyplot as plt\n"
   ]
  },
  {
   "cell_type": "code",
   "execution_count": null,
   "metadata": {},
   "outputs": [],
   "source": []
  },
  {
   "cell_type": "code",
   "execution_count": null,
   "metadata": {},
   "outputs": [],
   "source": []
  },
  {
   "cell_type": "code",
   "execution_count": null,
   "metadata": {},
   "outputs": [],
   "source": []
  },
  {
   "cell_type": "code",
   "execution_count": 16,
   "metadata": {},
   "outputs": [
    {
     "name": "stdout",
     "output_type": "stream",
     "text": [
      "[[53 47]\n",
      " [13 36]\n",
      " [21  4]\n",
      " [61 15]]\n",
      "[[52, 46], [14, 36], [22, 8], [60, 16]]\n"
     ]
    },
    {
     "data": {
      "text/plain": [
       "True"
      ]
     },
     "execution_count": 16,
     "metadata": {},
     "output_type": "execute_result"
    },
    {
     "data": {
      "image/png": "[encoded data removed]",
      "text/plain": [
       "<Figure size 432x288 with 1 Axes>"
      ]
     },
     "metadata": {
      "needs_background": "light"
     },
     "output_type": "display_data"
    }
   ],
   "source": [
    "image = cv2.imread('test_mask/test2.png')\n",
    "gray = cv2.cvtColor(image, cv2.COLOR_BGR2GRAY)\n",
    "ret, thresh = cv2.threshold(gray, 60, 255, cv2.THRESH_BINARY)\n",
    "plt.imshow(thresh, cmap=\"gray\")\n",
    "cnts = cv2.findContours(thresh.copy(), cv2.RETR_EXTERNAL, cv2.CHAIN_APPROX_SIMPLE)\n",
    "cnts = imutils.grab_contours(cnts)\n",
    "rect = cv2.minAreaRect(cnts[0])\n",
    "box = cv2.boxPoints(rect)\n",
    "box = np.int0(box)\n",
    "print(box)\n",
    "# plt.imshow(cv2.drawContours(image, [box], 0, (0, 0, 255), 1))\n",
    "true_corners = []\n",
    "for pt in box:\n",
    "    true_corners.append(min([(x, np.linalg.norm(x-pt)) for x in cnts[0]], key = lambda t: t[1])[0].tolist()[0])\n",
    "    \n",
    "print(true_corners)\n",
    "for pt in true_corners:\n",
    "    (x, y) = pt\n",
    "    cv2.circle(image, (x,y), 1, (255,0,0), thickness=1, lineType=8, shift=0)\n",
    "\n",
    "tl_x, tl_y = true_corners[0]\n",
    "t2_x, t2_y = true_corners[1]\n",
    "\n",
    "cv2.line(image, (tl_x, tl_y), (t2_x, t2_y), (255,0,0), thickness=1, lineType=8, shift=0)\n",
    "\n",
    "\n",
    "t3_x, t3_y = true_corners[2]\n",
    "t4_x, t4_y = true_corners[3]\n",
    "\n",
    "cv2.line(image, (t3_x, t3_y), (t4_x, t4_y), (255,0,0), thickness=1, lineType=8, shift=0)\n",
    "\n",
    "plt.imshow(image)\n",
    "\n",
    "# cv.Circle(img, center, radius, color, thickness=1, lineType=8, shift=0)\n",
    "width = int(rect[1][0])\n",
    "height = int(rect[1][1])\n",
    "\n",
    "src_pts = box.astype(\"float32\")\n",
    "dst_pts = np.array([[0, height-1],\n",
    "                    [0, 0],\n",
    "                    [width-1, 0],\n",
    "                    [width-1, height-1]], dtype=\"float32\")\n",
    "M = cv2.getPerspectiveTransform(src_pts, dst_pts)\n",
    "warped = cv2.warpPerspective(image, M, (width, height))\n",
    "cv2.imwrite(\"crop_img.jpg\", warped)"
   ]
  },
  {
   "cell_type": "code",
   "execution_count": null,
   "metadata": {},
   "outputs": [],
   "source": []
  },
  {
   "cell_type": "code",
   "execution_count": null,
   "metadata": {},
   "outputs": [],
   "source": []
  },
  {
   "cell_type": "code",
   "execution_count": null,
   "metadata": {},
   "outputs": [],
   "source": []
  }
 ],
 "metadata": {
  "kernelspec": {
   "display_name": "Python 3",
   "language": "python",
   "name": "python3"
  },
  "language_info": {
   "codemirror_mode": {
    "name": "ipython",
    "version": 3
   },
   "file_extension": ".py",
   "mimetype": "text/x-python",
   "name": "python",
   "nbconvert_exporter": "python",
   "pygments_lexer": "ipython3",
   "version": "3.7.3"
  }
 },
 "nbformat": 4,
 "nbformat_minor": 2
}
