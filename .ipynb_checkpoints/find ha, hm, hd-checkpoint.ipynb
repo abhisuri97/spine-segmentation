{
 "cells": [
  {
   "cell_type": "code",
   "execution_count": 1,
   "metadata": {},
   "outputs": [],
   "source": [
    "import cv2\n",
    "import numpy as np\n"
   ]
  },
  {
   "cell_type": "code",
   "execution_count": 2,
   "metadata": {},
   "outputs": [],
   "source": [
    "import imutils\n",
    "import matplotlib.pyplot as plt"
   ]
  },
  {
   "cell_type": "code",
   "execution_count": null,
   "metadata": {},
   "outputs": [],
   "source": [
    "def get_perp_bisector(line):\n",
    "    (x1, y1), (x2, y2) = line\n",
    "    cx = (x1+x2)/2;\n",
    "    cy = (y1+y2)/2;\n",
    "\n",
    "    x1-=cx; y1-=cy;\n",
    "    x2-=cx; y2-=cy;\n",
    "\n",
    "    xtemp = x1; ytemp = y1;\n",
    "    x1=-ytemp; y1=xtemp; \n",
    "\n",
    "    xtemp = x2; ytemp = y2;\n",
    "    x2=-ytemp; y2=xtemp; \n",
    "\n",
    "    x1+=cx; y1+=cy;\n",
    "    x2+=cx; y2+=cy;\n",
    "    \n",
    "    return ((int(x1), int(y1)), (int(x2), int(y2)))"
   ]
  },
  {
   "cell_type": "code",
   "execution_count": null,
   "metadata": {},
   "outputs": [],
   "source": [
    "def get_md_pt(line, contours, image):\n",
    "    perp1 = get_perp_bisector(line)\n",
    "    img_blk_ln = np.zeros(image.shape).astype(image.dtype)\n",
    "    cv2.line(img_blk_ln, perp1[0], perp1[1], (255,255,255), thickness=1, lineType=8, shift=0)\n",
    "    img_blk_cnt = np.zeros(image.shape).astype(image.dtype)\n",
    "    cv2.drawContours(img_blk_cnt, contours, 0, (255,255, 255), 1)\n",
    "    img_blk = np.zeros(image.shape).astype(image.dtype)\n",
    "    cv2.bitwise_and(img_blk_cnt, img_blk_ln, img_blk)\n",
    "    pixelpoints = np.transpose(np.nonzero(img_blk))\n",
    "#     plt.imshow(img_blk)\n",
    "    return (pixelpoints[0][0], pixelpoints[0][1])\n",
    "    "
   ]
  },
  {
   "cell_type": "code",
   "execution_count": null,
   "metadata": {},
   "outputs": [],
   "source": []
  },
  {
   "cell_type": "code",
   "execution_count": 3,
   "metadata": {},
   "outputs": [],
   "source": [
    "from scipy.interpolate import splprep, splev\n"
   ]
  },
  {
   "cell_type": "code",
   "execution_count": 4,
   "metadata": {},
   "outputs": [
    {
     "name": "stdout",
     "output_type": "stream",
     "text": [
      "[[228, 416], [286, 360], [286, 402], [229, 362]]\n"
     ]
    },
    {
     "name": "stderr",
     "output_type": "stream",
     "text": [
      "/anaconda3/lib/python3.7/site-packages/scipy/interpolate/_fitpack_impl.py:226: RuntimeWarning: Setting x[0][69]=x[0][0]\n",
      "  (i, m, i)))\n"
     ]
    },
    {
     "ename": "NameError",
     "evalue": "name 'get_md_pt' is not defined",
     "output_type": "error",
     "traceback": [
      "\u001b[0;31m---------------------------------------------------------------------------\u001b[0m",
      "\u001b[0;31mNameError\u001b[0m                                 Traceback (most recent call last)",
      "\u001b[0;32m<ipython-input-4-b6caf577ad5b>\u001b[0m in \u001b[0;36m<module>\u001b[0;34m\u001b[0m\n\u001b[1;32m     53\u001b[0m \u001b[0mcv2\u001b[0m\u001b[0;34m.\u001b[0m\u001b[0mline\u001b[0m\u001b[0;34m(\u001b[0m\u001b[0mimage\u001b[0m\u001b[0;34m,\u001b[0m \u001b[0mline1\u001b[0m\u001b[0;34m[\u001b[0m\u001b[0;36m0\u001b[0m\u001b[0;34m]\u001b[0m\u001b[0;34m,\u001b[0m \u001b[0mline2\u001b[0m\u001b[0;34m[\u001b[0m\u001b[0;36m0\u001b[0m\u001b[0;34m]\u001b[0m\u001b[0;34m,\u001b[0m \u001b[0;34m(\u001b[0m\u001b[0;36m255\u001b[0m\u001b[0;34m,\u001b[0m\u001b[0;36m0\u001b[0m\u001b[0;34m,\u001b[0m\u001b[0;36m0\u001b[0m\u001b[0;34m)\u001b[0m\u001b[0;34m,\u001b[0m \u001b[0mthickness\u001b[0m\u001b[0;34m=\u001b[0m\u001b[0;36m1\u001b[0m\u001b[0;34m,\u001b[0m \u001b[0mlineType\u001b[0m\u001b[0;34m=\u001b[0m\u001b[0;36m8\u001b[0m\u001b[0;34m,\u001b[0m \u001b[0mshift\u001b[0m\u001b[0;34m=\u001b[0m\u001b[0;36m0\u001b[0m\u001b[0;34m)\u001b[0m\u001b[0;34m\u001b[0m\u001b[0;34m\u001b[0m\u001b[0m\n\u001b[1;32m     54\u001b[0m \u001b[0mcv2\u001b[0m\u001b[0;34m.\u001b[0m\u001b[0mline\u001b[0m\u001b[0;34m(\u001b[0m\u001b[0mimage\u001b[0m\u001b[0;34m,\u001b[0m \u001b[0mline1\u001b[0m\u001b[0;34m[\u001b[0m\u001b[0;36m1\u001b[0m\u001b[0;34m]\u001b[0m\u001b[0;34m,\u001b[0m \u001b[0mline2\u001b[0m\u001b[0;34m[\u001b[0m\u001b[0;36m1\u001b[0m\u001b[0;34m]\u001b[0m\u001b[0;34m,\u001b[0m \u001b[0;34m(\u001b[0m\u001b[0;36m255\u001b[0m\u001b[0;34m,\u001b[0m\u001b[0;36m0\u001b[0m\u001b[0;34m,\u001b[0m\u001b[0;36m0\u001b[0m\u001b[0;34m)\u001b[0m\u001b[0;34m,\u001b[0m \u001b[0mthickness\u001b[0m\u001b[0;34m=\u001b[0m\u001b[0;36m1\u001b[0m\u001b[0;34m,\u001b[0m \u001b[0mlineType\u001b[0m\u001b[0;34m=\u001b[0m\u001b[0;36m8\u001b[0m\u001b[0;34m,\u001b[0m \u001b[0mshift\u001b[0m\u001b[0;34m=\u001b[0m\u001b[0;36m0\u001b[0m\u001b[0;34m)\u001b[0m\u001b[0;34m\u001b[0m\u001b[0;34m\u001b[0m\u001b[0m\n\u001b[0;32m---> 55\u001b[0;31m \u001b[0mhms_y\u001b[0m\u001b[0;34m,\u001b[0m \u001b[0mhms_x\u001b[0m \u001b[0;34m=\u001b[0m \u001b[0mget_md_pt\u001b[0m\u001b[0;34m(\u001b[0m\u001b[0mline1\u001b[0m\u001b[0;34m,\u001b[0m \u001b[0mcontours\u001b[0m\u001b[0;34m,\u001b[0m \u001b[0mimage\u001b[0m\u001b[0;34m)\u001b[0m\u001b[0;34m\u001b[0m\u001b[0;34m\u001b[0m\u001b[0m\n\u001b[0m\u001b[1;32m     56\u001b[0m \u001b[0mhmi_y\u001b[0m\u001b[0;34m,\u001b[0m \u001b[0mhmi_x\u001b[0m \u001b[0;34m=\u001b[0m \u001b[0mget_md_pt\u001b[0m\u001b[0;34m(\u001b[0m\u001b[0mline2\u001b[0m\u001b[0;34m,\u001b[0m \u001b[0mcontours\u001b[0m\u001b[0;34m,\u001b[0m \u001b[0mimage\u001b[0m\u001b[0;34m)\u001b[0m\u001b[0;34m\u001b[0m\u001b[0;34m\u001b[0m\u001b[0m\n\u001b[1;32m     57\u001b[0m \u001b[0mcv2\u001b[0m\u001b[0;34m.\u001b[0m\u001b[0mline\u001b[0m\u001b[0;34m(\u001b[0m\u001b[0mimage\u001b[0m\u001b[0;34m,\u001b[0m \u001b[0;34m(\u001b[0m\u001b[0mhms_x\u001b[0m\u001b[0;34m,\u001b[0m \u001b[0mhms_y\u001b[0m\u001b[0;34m)\u001b[0m\u001b[0;34m,\u001b[0m \u001b[0;34m(\u001b[0m\u001b[0mhmi_x\u001b[0m\u001b[0;34m,\u001b[0m \u001b[0mhmi_y\u001b[0m\u001b[0;34m)\u001b[0m\u001b[0;34m,\u001b[0m \u001b[0;34m(\u001b[0m\u001b[0;36m255\u001b[0m\u001b[0;34m,\u001b[0m\u001b[0;36m0\u001b[0m\u001b[0;34m,\u001b[0m\u001b[0;36m0\u001b[0m\u001b[0;34m)\u001b[0m\u001b[0;34m,\u001b[0m \u001b[0mthickness\u001b[0m\u001b[0;34m=\u001b[0m\u001b[0;36m1\u001b[0m\u001b[0;34m,\u001b[0m \u001b[0mlineType\u001b[0m\u001b[0;34m=\u001b[0m\u001b[0;36m8\u001b[0m\u001b[0;34m,\u001b[0m \u001b[0mshift\u001b[0m\u001b[0;34m=\u001b[0m\u001b[0;36m0\u001b[0m\u001b[0;34m)\u001b[0m\u001b[0;34m\u001b[0m\u001b[0;34m\u001b[0m\u001b[0m\n",
      "\u001b[0;31mNameError\u001b[0m: name 'get_md_pt' is not defined"
     ]
    }
   ],
   "source": [
    "image = cv2.imread('generated_masks/MR_2305_L_5.png')\n",
    "gray = cv2.cvtColor(image, cv2.COLOR_BGR2GRAY)\n",
    "ret, thresh = cv2.threshold(gray, 60, 255, cv2.THRESH_BINARY)\n",
    "# plt.imshow(thresh, cmap=\"gray\")\n",
    "contours = cv2.findContours(thresh.copy(), cv2.RETR_EXTERNAL, cv2.CHAIN_APPROX_SIMPLE)\n",
    "contours = imutils.grab_contours(contours)\n",
    "\n",
    "rect = cv2.minAreaRect(contours[0])\n",
    "\n",
    "# smooth contours \n",
    "smoothened = []\n",
    "for contour in contours:\n",
    "    x,y = contour.T\n",
    "    # Convert from numpy arrays to normal arrays\n",
    "    x = x.tolist()[0]\n",
    "    y = y.tolist()[0]\n",
    "    # https://docs.scipy.org/doc/scipy-0.14.0/reference/generated/scipy.interpolate.splprep.html\n",
    "    tck, u = splprep([x,y], u=None, s=1.0, per=1)\n",
    "    # https://docs.scipy.org/doc/numpy-1.10.1/reference/generated/numpy.linspace.html\n",
    "    u_new = np.linspace(u.min(), u.max(), 25)\n",
    "    # https://docs.scipy.org/doc/scipy-0.14.0/reference/generated/scipy.interpolate.splev.html\n",
    "    x_new, y_new = splev(u_new, tck, der=0)\n",
    "    # Convert it back to numpy format for opencv to be able to display it\n",
    "    res_array = [[[int(i[0]), int(i[1])]] for i in zip(x_new,y_new)]\n",
    "    smoothened.append(np.asarray(res_array, dtype=np.int32))\n",
    "\n",
    "contours = smoothened\n",
    "\n",
    "box = cv2.boxPoints(rect)\n",
    "box = np.int0(box)\n",
    "image = np.zeros(image.shape).astype(image.dtype)\n",
    "cv2.fillPoly(image, contours, [255,255,255])\n",
    "gray = cv2.cvtColor(image, cv2.COLOR_BGR2GRAY)\n",
    "\n",
    "\n",
    "# cv2.drawContours(image, contours, 0, (0, 0, 255), 1)\n",
    "corners = cv2.goodFeaturesToTrack(gray, 4, 0.01, 20)\n",
    "\n",
    "corners = np.int0(corners)\n",
    "\n",
    "true_corners = []\n",
    "for pt in corners:\n",
    "    true_corners.append(min([(x, np.linalg.norm(x-pt)) for x in contours[0]], key = lambda t: t[1])[0].tolist()[0])\n",
    "    \n",
    "print(true_corners)\n",
    "for pt in true_corners:\n",
    "    (x, y) = pt\n",
    "    cv2.circle(image, (x,y), 1, (255,0,0), thickness=1, lineType=8, shift=0)\n",
    "\n",
    "sorted_pts = sorted(true_corners, key=lambda x: x[1])\n",
    "line1 = (tuple(sorted_pts[0]), tuple(sorted_pts [1]))\n",
    "line2 = (tuple(sorted_pts[2]), tuple(sorted_pts[3]))\n",
    "cv2.line(image, line1[0], line2[0], (255,0,0), thickness=1, lineType=8, shift=0)\n",
    "cv2.line(image, line1[1], line2[1], (255,0,0), thickness=1, lineType=8, shift=0)\n",
    "hms_y, hms_x = get_md_pt(line1, contours, image)\n",
    "hmi_y, hmi_x = get_md_pt(line2, contours, image)\n",
    "cv2.line(image, (hms_x, hms_y), (hmi_x, hmi_y), (255,0,0), thickness=1, lineType=8, shift=0)\n",
    "\n",
    "cv2.circle(image, (hms_x, hms_y), 1, (0,255,0), thickness=1, lineType=8, shift=0)\n",
    "cv2.circle(image, (hmi_x, hmi_y ), 1, (0,255,0), thickness=1, lineType=8, shift=0)\n",
    "\n",
    "# tl_x, tl_y = true_corners[0]\n",
    "# t2_x, t2_y = true_corners[1]\n",
    "\n",
    "# cv2.line(image, (tl_x, tl_y), (t2_x, t2_y), (255,0,0), thickness=1, lineType=8, shift=0)\n",
    "\n",
    "\n",
    "# t3_x, t3_y = true_corners[2]\n",
    "# t4_x, t4_y = true_corners[3]\n",
    "\n",
    "\n",
    "# cv2.line(image, (t3_x, t3_y), (t4_x, t4_y), (255,0,0), thickness=1, lineType=8, shift=0)\n",
    "\n",
    "# cv.Circle(img, center, radius, color, thickness=1, lineType=8, shift=0)\n",
    "width = int(rect[1][0])\n",
    "height = int(rect[1][1])\n",
    "box = np.int0(box)\n",
    "\n",
    "W = rect[1][0]\n",
    "H = rect[1][1]\n",
    "\n",
    "Xs = [i[0] for i in box]\n",
    "Ys = [i[1] for i in box]\n",
    "x1 = min(Xs)\n",
    "x2 = max(Xs)\n",
    "y1 = min(Ys)\n",
    "y2 = max(Ys)\n",
    "\n",
    "angle = rect[2]\n",
    "if angle < -45:\n",
    "    angle += 90\n",
    "    \n",
    "center = ((x1+x2)/2,(y1+y2)/2)\n",
    "# Size of the upright rectangle bounding the rotated rectangle\n",
    "size = (x2-x1, y2-y1)\n",
    "M = cv2.getRotationMatrix2D((size[0]/2, size[1]/2), angle, 1.0)\n",
    "# Cropped upright rectangle\n",
    "cropped = cv2.getRectSubPix(image, size, center)\n",
    "cropped = cv2.warpAffine(cropped, M, size)\n",
    "croppedW = H if H > W else W\n",
    "croppedH = H if H < W else W\n",
    "# Final cropped & rotated rectangle\n",
    "croppedRotated = cv2.getRectSubPix(cropped, (int(croppedW),int(croppedH)), (size[0]/2, size[1]/2))\n",
    "\n",
    "# src_pts = box.astype(\"float32\")\n",
    "# dst_pts = np.array([[0, height+10],\n",
    "#                     [0, 0],\n",
    "#                     [width+10, 0],\n",
    "#                     [width-10, height+10]], dtype=\"float32\")\n",
    "# M = cv2.getPerspectiveTransform(src_pts, dst_pts)\n",
    "# warped = cv2.warpPerspective(image, M, (width, height))\n",
    "\n",
    "plt.imshow(croppedRotated)\n"
   ]
  },
  {
   "cell_type": "code",
   "execution_count": null,
   "metadata": {},
   "outputs": [],
   "source": []
  },
  {
   "cell_type": "code",
   "execution_count": null,
   "metadata": {},
   "outputs": [],
   "source": []
  },
  {
   "cell_type": "code",
   "execution_count": null,
   "metadata": {},
   "outputs": [],
   "source": []
  },
  {
   "cell_type": "code",
   "execution_count": null,
   "metadata": {},
   "outputs": [],
   "source": [
    "get_md_pt(line1, contours, image)"
   ]
  },
  {
   "cell_type": "code",
   "execution_count": null,
   "metadata": {},
   "outputs": [],
   "source": []
  }
 ],
 "metadata": {
  "kernelspec": {
   "display_name": "Python 3",
   "language": "python",
   "name": "python3"
  },
  "language_info": {
   "codemirror_mode": {
    "name": "ipython",
    "version": 3
   },
   "file_extension": ".py",
   "mimetype": "text/x-python",
   "name": "python",
   "nbconvert_exporter": "python",
   "pygments_lexer": "ipython3",
   "version": "3.7.3"
  }
 },
 "nbformat": 4,
 "nbformat_minor": 2
}
